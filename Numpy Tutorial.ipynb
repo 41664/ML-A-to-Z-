{
 "cells": [
  {
   "cell_type": "markdown",
   "metadata": {},
   "source": [
    "# Numpy Pratice\n",
    "This is a simple repository of all essential Numpy commands for a quick primer. This will serve as quick lookup notes for those who do not know / understand Numpy and are trying to get into data science."
   ]
  },
  {
   "cell_type": "code",
   "execution_count": 2,
   "metadata": {},
   "outputs": [],
   "source": [
    "import numpy as np"
   ]
  },
  {
   "cell_type": "code",
   "execution_count": 6,
   "metadata": {},
   "outputs": [
    {
     "name": "stdout",
     "output_type": "stream",
     "text": [
      "[[1 2 3]\n",
      " [4 5 6]\n",
      " [7 8 9]]\n"
     ]
    }
   ],
   "source": [
    "a=np.array([[1,2,3],[4,5,6],[7,8,9]])\n",
    "print(a)"
   ]
  },
  {
   "cell_type": "code",
   "execution_count": 17,
   "metadata": {},
   "outputs": [
    {
     "name": "stdout",
     "output_type": "stream",
     "text": [
      "[[[ 1.+0.j  2.+0.j  3.+0.j  4.+0.j  5.+0.j  6.+0.j  7.+0.j  8.+0.j  9.+0.j]]]\n"
     ]
    }
   ],
   "source": [
    "a=np.array([1,2,3,4,5,6,7,8,9],ndmin=3,dtype=complex, order='C')\n",
    "print(a)\n",
    "#ndmin- Number of dimensions of a numpy array\n",
    "#dtype- contains the data type of the elements\n",
    "#order- The order in which the array is stored. C is for row major, F is for column major"
   ]
  },
  {
   "cell_type": "markdown",
   "metadata": {},
   "source": [
    "## Default datatypes\n",
    "1. bool\n",
    "2. int8, int16, int32, int64, intc (C style int)\n",
    "3. uint8, uint16, uint32, uint64\n",
    "4. float16, float32, float64 (default float)\n",
    "5. complex64, complex128 (default) \n",
    "----------------------------------\n",
    "you can use numbers from i1 to i4 to denote int sizes, f1 to f4 to denote float sizes and so on\n",
    "You can also use s20, s30 etc to denote size of the byte string. Byte string is a string of bytes- can be used as character array to store character objects."
   ]
  },
  {
   "cell_type": "code",
   "execution_count": 25,
   "metadata": {},
   "outputs": [
    {
     "name": "stdout",
     "output_type": "stream",
     "text": [
      "[(b'abc', 21, 50.0) (b'xyz', 18, 75.0)]\n"
     ]
    }
   ],
   "source": [
    "#Creating our own data types \n",
    "student = np.dtype([('name','S20'), ('age', 'i1'), ('marks', 'f4')]) \n",
    "a = np.array([('abc', 21, 50),('xyz', 18, 75)], dtype = student) \n",
    "print(a)"
   ]
  },
  {
   "cell_type": "code",
   "execution_count": 34,
   "metadata": {},
   "outputs": [
    {
     "name": "stdout",
     "output_type": "stream",
     "text": [
      "(2, 3)\n",
      "[[1 2 3]\n",
      " [4 5 6]]\n",
      "-----------\n",
      "(3, 2)\n",
      "[[1 2]\n",
      " [3 4]\n",
      " [5 6]]\n"
     ]
    }
   ],
   "source": [
    "a = np.array([[1,2,3],[4,5,6]]) \n",
    "print(a.shape)\n",
    "print(a)\n",
    "print('-----------')\n",
    "a.shape=(3,2)\n",
    "print(a.shape)\n",
    "print(a)\n",
    "#This can also be achieved by using the reshape function. a=a.reshape(x,y)"
   ]
  },
  {
   "cell_type": "code",
   "execution_count": 49,
   "metadata": {},
   "outputs": [
    {
     "name": "stdout",
     "output_type": "stream",
     "text": [
      "[ 1  2  3  4  5  6  7  8  9 10 11 12 13 14 15 16 17 18 19 20 21 22 23 24]\n"
     ]
    }
   ],
   "source": [
    "a=np.arange(1,25,1)\n",
    "print(a)\n",
    "#arange(start, stop, step) starts from start to stop taking a step each time it goes in and creates 1D array "
   ]
  },
  {
   "cell_type": "code",
   "execution_count": 50,
   "metadata": {},
   "outputs": [
    {
     "name": "stdout",
     "output_type": "stream",
     "text": [
      "1\n",
      "[ 1  2  3  4  5  6  7  8  9 10 11 12 13 14 15 16 17 18 19 20 21 22 23 24]\n",
      "--------------------\n",
      "3\n",
      "[[[ 1  2  3  4]\n",
      "  [ 5  6  7  8]]\n",
      "\n",
      " [[ 9 10 11 12]\n",
      "  [13 14 15 16]]\n",
      "\n",
      " [[17 18 19 20]\n",
      "  [21 22 23 24]]]\n"
     ]
    }
   ],
   "source": [
    "print(a.ndim) \n",
    "print(a)\n",
    "print('--------------------')\n",
    "a=a.reshape(3,2,4)\n",
    "#The first arguement contains the number of dimensions\n",
    "#The second arguement contains number of rows\n",
    "#The thirt arguement contains number of columns\n",
    "print(a.ndim)\n",
    "print(a)"
   ]
  },
  {
   "cell_type": "code",
   "execution_count": 52,
   "metadata": {},
   "outputs": [
    {
     "name": "stdout",
     "output_type": "stream",
     "text": [
      "[[0 0 0]\n",
      " [0 0 0]]\n"
     ]
    }
   ],
   "source": [
    "zarray=np.zeros([2,3],dtype='i4',order='C')\n",
    "print(zarray)\n",
    "#np.ones- Creates aray of 1s\n",
    "#np.empty- creates empty array"
   ]
  },
  {
   "cell_type": "code",
   "execution_count": 13,
   "metadata": {},
   "outputs": [
    {
     "name": "stdout",
     "output_type": "stream",
     "text": [
      "[[1 2 3]\n",
      " [4 5 6]\n",
      " [7 8 9]]\n"
     ]
    }
   ],
   "source": [
    "newarray=[(1,2,3),(4,5,6),(7,8,9)]  #all tuples should be of the same size\n",
    "zarray=np.asarray(newarray,dtype='i2',order='F')\n",
    "print(zarray)"
   ]
  },
  {
   "cell_type": "markdown",
   "metadata": {},
   "source": [
    "#### We cannot use the arange function to generate intervals in case of decimal numbers as it will not be able to generate nice intervals, so in order to do so we use different fucntion"
   ]
  },
  {
   "cell_type": "code",
   "execution_count": 19,
   "metadata": {},
   "outputs": [
    {
     "name": "stdout",
     "output_type": "stream",
     "text": [
      "[ 1  1  2  2  3  4  4  5  5  6  7  7  8  8  9 10 10 11 11 12 13 13 14 14 15\n",
      " 16 16 17 17 18 19 19 20 20 21 22 22 23 23 24]\n"
     ]
    }
   ],
   "source": [
    "#This is a more generalized and usable function instead of a quick fix \n",
    "karray=np.linspace(start=1, stop=25, num=40, endpoint=False, dtype='i2')\n",
    "#start- the starting point\n",
    "#stop- The stopping point\n",
    "#num- the number of elements we need aka size of the array\n",
    "#endpoint-Considers 25 as a endpoint if True or default else doesn't\n",
    "#dtype- the type of data\n",
    "print(karray)"
   ]
  },
  {
   "cell_type": "code",
   "execution_count": 22,
   "metadata": {},
   "outputs": [
    {
     "name": "stdout",
     "output_type": "stream",
     "text": [
      "[     2      2      3      5      7     10     14     20     28     39\n",
      "     55     77    108    151    210    294    410    572    797   1112\n",
      "   1552   2164   3019   4211   5873   8192  11425  15935  22226  31000\n",
      " -22299  -5231  18574 -13760  32549  31601  -9387 -14814  29356  11629\n",
      "  24849 -23971 -16176  -8747 -29424    384  19549 -19238  12919   6064]\n"
     ]
    }
   ],
   "source": [
    "#we can also use this logspace for similar functionalisty\n",
    "logarray=np.logspace(start=1, stop=25, num=50, endpoint=False, base=2, dtype='i2')\n",
    "print(logarray)\n",
    "#start and stop are the exponents i.e base to the poer of the start and base to the power of stop\n",
    "#Rest everytihng is similar"
   ]
  },
  {
   "cell_type": "code",
   "execution_count": 30,
   "metadata": {},
   "outputs": [
    {
     "name": "stdout",
     "output_type": "stream",
     "text": [
      "[[4 5]\n",
      " [5 6]]\n",
      "------------------\n",
      "[[1 2 3]\n",
      " [4 5 6]]\n"
     ]
    }
   ],
   "source": [
    "a = np.array([[1,2,3],[3,4,5],[4,5,6]]) \n",
    "print(a[1:3,1:3])\n",
    "print('------------------')\n",
    "print(a[::2])"
   ]
  },
  {
   "cell_type": "code",
   "execution_count": 35,
   "metadata": {},
   "outputs": [
    {
     "name": "stdout",
     "output_type": "stream",
     "text": [
      "[ 7  8  9 10 11]\n",
      "------------------------\n",
      "[[ 4  5]\n",
      " [ 7  8]\n",
      " [10 11]]\n"
     ]
    }
   ],
   "source": [
    "x = np.array([[ 0,  1,  2],[ 3,  4,  5],[ 6,  7,  8],[ 9, 10, 11]]) \n",
    "print(x[x>6]) #Yes, the variables need to be of the same name\n",
    "print('------------------------')\n",
    "print(x[1:4,[1,2]])"
   ]
  },
  {
   "cell_type": "markdown",
   "metadata": {},
   "source": [
    "The term broadcasting refers to the ability of NumPy to treat arrays of different shapes during arithmetic operations. Arithmetic operations on arrays are usually done on corresponding elements. If two arrays are of exactly the same shape, then these operations are smoothly performed.\n",
    "Broadcasting is possible if the following rules are satisfied −\n",
    "\n",
    "1. Array with smaller ndim than the other is prepended with '1' in its shape.\n",
    "\n",
    "2. Size in each dimension of the output shape is maximum of the input sizes in that dimension.\n",
    "\n",
    "2. An input can be used in calculation, if its size in a particular dimension matches the output size or its value is exactly 1.\n",
    "\n",
    "4. If an input has a dimension size of 1, the first data entry in that dimension is used for all calculations along that dimension.\n",
    "\n",
    "A set of arrays is said to be broadcastable if the above rules produce a valid result and one of the following is true −\n",
    "\n",
    "1.  Arrays have exactly the same shape.\n",
    "\n",
    "2.  Arrays have the same number of dimensions and the length of each dimension is either a common length or 1.\n",
    "\n",
    "3.  Array having too few dimensions can have its shape prepended with a dimension of length 1, so that the above stated property is true.\n"
   ]
  },
  {
   "cell_type": "code",
   "execution_count": null,
   "metadata": {},
   "outputs": [],
   "source": []
  }
 ],
 "metadata": {
  "kernelspec": {
   "display_name": "Python 3",
   "language": "python",
   "name": "python3"
  },
  "language_info": {
   "codemirror_mode": {
    "name": "ipython",
    "version": 3
   },
   "file_extension": ".py",
   "mimetype": "text/x-python",
   "name": "python",
   "nbconvert_exporter": "python",
   "pygments_lexer": "ipython3",
   "version": "3.5.5"
  },
  "widgets": {
   "state": {},
   "version": "1.1.2"
  }
 },
 "nbformat": 4,
 "nbformat_minor": 2
}
