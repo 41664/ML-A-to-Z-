{
 "cells": [
  {
   "cell_type": "markdown",
   "metadata": {},
   "source": [
    "# Data Pre Processing Using Pandas and scikit Learn \n",
    "This is a basic Jupter Notebook that deals with data preprocessing tools used in Python including but not limited to Imputers, LabelEncoders, OneHotEncoder, etc "
   ]
  },
  {
   "cell_type": "code",
   "execution_count": 2,
   "metadata": {},
   "outputs": [],
   "source": [
    "import pandas as pd\n",
    "import numpy as np\n",
    "from sklearn.preprocessing import Imputer, LabelEncoder, OneHotEncoder\n",
    "import matplotlib.pyplot as plt\n",
    "path=\"Data.csv\"\n",
    "dataset=pd.read_csv(path)"
   ]
  },
  {
   "cell_type": "code",
   "execution_count": 43,
   "metadata": {},
   "outputs": [
    {
     "data": {
      "text/html": [
       "<div>\n",
       "<style scoped>\n",
       "    .dataframe tbody tr th:only-of-type {\n",
       "        vertical-align: middle;\n",
       "    }\n",
       "\n",
       "    .dataframe tbody tr th {\n",
       "        vertical-align: top;\n",
       "    }\n",
       "\n",
       "    .dataframe thead th {\n",
       "        text-align: right;\n",
       "    }\n",
       "</style>\n",
       "<table border=\"1\" class=\"dataframe\">\n",
       "  <thead>\n",
       "    <tr style=\"text-align: right;\">\n",
       "      <th></th>\n",
       "      <th>Country</th>\n",
       "      <th>Age</th>\n",
       "      <th>Salary</th>\n",
       "      <th>Purchased</th>\n",
       "    </tr>\n",
       "  </thead>\n",
       "  <tbody>\n",
       "    <tr>\n",
       "      <th>0</th>\n",
       "      <td>France</td>\n",
       "      <td>44.0</td>\n",
       "      <td>72000.0</td>\n",
       "      <td>No</td>\n",
       "    </tr>\n",
       "    <tr>\n",
       "      <th>1</th>\n",
       "      <td>Spain</td>\n",
       "      <td>27.0</td>\n",
       "      <td>48000.0</td>\n",
       "      <td>Yes</td>\n",
       "    </tr>\n",
       "    <tr>\n",
       "      <th>2</th>\n",
       "      <td>Germany</td>\n",
       "      <td>30.0</td>\n",
       "      <td>54000.0</td>\n",
       "      <td>No</td>\n",
       "    </tr>\n",
       "    <tr>\n",
       "      <th>3</th>\n",
       "      <td>Spain</td>\n",
       "      <td>38.0</td>\n",
       "      <td>61000.0</td>\n",
       "      <td>No</td>\n",
       "    </tr>\n",
       "    <tr>\n",
       "      <th>4</th>\n",
       "      <td>Germany</td>\n",
       "      <td>40.0</td>\n",
       "      <td>NaN</td>\n",
       "      <td>Yes</td>\n",
       "    </tr>\n",
       "  </tbody>\n",
       "</table>\n",
       "</div>"
      ],
      "text/plain": [
       "   Country   Age   Salary Purchased\n",
       "0   France  44.0  72000.0        No\n",
       "1    Spain  27.0  48000.0       Yes\n",
       "2  Germany  30.0  54000.0        No\n",
       "3    Spain  38.0  61000.0        No\n",
       "4  Germany  40.0      NaN       Yes"
      ]
     },
     "execution_count": 43,
     "metadata": {},
     "output_type": "execute_result"
    }
   ],
   "source": [
    "X=dataset.iloc[:,:-1].values  #The input set\n",
    "Y=dataset.iloc[:,3].values #The output that we need to predict\n",
    "dataset.head()"
   ]
  },
  {
   "cell_type": "markdown",
   "metadata": {},
   "source": [
    "Now we see that this data contains both cateogrical data and Null data. We need to remove all these anomalies in the data in order to train it. There are 2 methods to do this- Either using Pandas or by using sklearn. First of we try to run it using sklearn and then through Pandas"
   ]
  },
  {
   "cell_type": "code",
   "execution_count": 44,
   "metadata": {},
   "outputs": [
    {
     "name": "stdout",
     "output_type": "stream",
     "text": [
      "[['France' 44.0 72000.0]\n",
      " ['Spain' 27.0 48000.0]\n",
      " ['Germany' 30.0 54000.0]\n",
      " ['Spain' 38.0 61000.0]\n",
      " ['Germany' 40.0 63777.77777777778]\n",
      " ['France' 35.0 58000.0]\n",
      " ['Spain' 38.77777777777778 52000.0]\n",
      " ['France' 48.0 79000.0]\n",
      " ['Germany' 50.0 83000.0]\n",
      " ['France' 37.0 67000.0]]\n"
     ]
    }
   ],
   "source": [
    "#we can use this one for Pandas\n",
    "X2, Y2, dataset2=X, Y, dataset\n",
    "imputer = Imputer(missing_values = 'NaN', strategy = 'mean', axis = 0)\n",
    "#imputer = imputer.fit(X[:, 1:3])\n",
    "#X[:,1:3]=imputer.transform(X[:,1:3])\n",
    "X[:,1:3]=imputer.fit_transform(X[:,1:3])\n",
    "print(X)"
   ]
  },
  {
   "cell_type": "code",
   "execution_count": 45,
   "metadata": {},
   "outputs": [
    {
     "name": "stdout",
     "output_type": "stream",
     "text": [
      "[0 1 0 0 1 1 0 1 0 1]\n"
     ]
    }
   ],
   "source": [
    "labelencoder = LabelEncoder()\n",
    "Y=labelencoder.fit_transform(Y)\n",
    "print(Y)"
   ]
  },
  {
   "cell_type": "code",
   "execution_count": 47,
   "metadata": {},
   "outputs": [
    {
     "name": "stdout",
     "output_type": "stream",
     "text": [
      "[[  0.00000000e+00   1.00000000e+00   0.00000000e+00   0.00000000e+00\n",
      "    4.40000000e+01   7.20000000e+04]\n",
      " [  1.00000000e+00   0.00000000e+00   0.00000000e+00   1.00000000e+00\n",
      "    2.70000000e+01   4.80000000e+04]\n",
      " [  1.00000000e+00   0.00000000e+00   1.00000000e+00   0.00000000e+00\n",
      "    3.00000000e+01   5.40000000e+04]\n",
      " [  1.00000000e+00   0.00000000e+00   0.00000000e+00   1.00000000e+00\n",
      "    3.80000000e+01   6.10000000e+04]\n",
      " [  1.00000000e+00   0.00000000e+00   1.00000000e+00   0.00000000e+00\n",
      "    4.00000000e+01   6.37777778e+04]\n",
      " [  0.00000000e+00   1.00000000e+00   0.00000000e+00   0.00000000e+00\n",
      "    3.50000000e+01   5.80000000e+04]\n",
      " [  1.00000000e+00   0.00000000e+00   0.00000000e+00   1.00000000e+00\n",
      "    3.87777778e+01   5.20000000e+04]\n",
      " [  0.00000000e+00   1.00000000e+00   0.00000000e+00   0.00000000e+00\n",
      "    4.80000000e+01   7.90000000e+04]\n",
      " [  1.00000000e+00   0.00000000e+00   1.00000000e+00   0.00000000e+00\n",
      "    5.00000000e+01   8.30000000e+04]\n",
      " [  0.00000000e+00   1.00000000e+00   0.00000000e+00   0.00000000e+00\n",
      "    3.70000000e+01   6.70000000e+04]]\n"
     ]
    }
   ],
   "source": [
    "onehotencoder = OneHotEncoder(categorical_features = [0])\n",
    "X = onehotencoder.fit_transform(X).toarray()\n",
    "print(X)"
   ]
  },
  {
   "cell_type": "code",
   "execution_count": 52,
   "metadata": {},
   "outputs": [
    {
     "name": "stdout",
     "output_type": "stream",
     "text": [
      "     0    1    2    3          4             5\n",
      "0  0.0  1.0  0.0  0.0  44.000000  72000.000000\n",
      "1  1.0  0.0  0.0  1.0  27.000000  48000.000000\n",
      "2  1.0  0.0  1.0  0.0  30.000000  54000.000000\n",
      "3  1.0  0.0  0.0  1.0  38.000000  61000.000000\n",
      "4  1.0  0.0  1.0  0.0  40.000000  63777.777778\n",
      "5  0.0  1.0  0.0  0.0  35.000000  58000.000000\n",
      "6  1.0  0.0  0.0  1.0  38.777778  52000.000000\n",
      "7  0.0  1.0  0.0  0.0  48.000000  79000.000000\n",
      "8  1.0  0.0  1.0  0.0  50.000000  83000.000000\n",
      "9  0.0  1.0  0.0  0.0  37.000000  67000.000000\n"
     ]
    }
   ],
   "source": [
    "print(pd.DataFrame(X))"
   ]
  },
  {
   "cell_type": "markdown",
   "metadata": {},
   "source": [
    "Now that we have scaled all the vectors using sklearn we can use Pandas to do the same. For that we have stored the variables in (2) variable set- X2, Y2, etc. The fundamental difference is that you can operate directly on the dataframe instead of using values. "
   ]
  },
  {
   "cell_type": "code",
   "execution_count": 60,
   "metadata": {},
   "outputs": [
    {
     "data": {
      "text/html": [
       "<div>\n",
       "<style scoped>\n",
       "    .dataframe tbody tr th:only-of-type {\n",
       "        vertical-align: middle;\n",
       "    }\n",
       "\n",
       "    .dataframe tbody tr th {\n",
       "        vertical-align: top;\n",
       "    }\n",
       "\n",
       "    .dataframe thead th {\n",
       "        text-align: right;\n",
       "    }\n",
       "</style>\n",
       "<table border=\"1\" class=\"dataframe\">\n",
       "  <thead>\n",
       "    <tr style=\"text-align: right;\">\n",
       "      <th></th>\n",
       "      <th>Country</th>\n",
       "      <th>Age</th>\n",
       "      <th>Salary</th>\n",
       "      <th>Purchased</th>\n",
       "    </tr>\n",
       "  </thead>\n",
       "  <tbody>\n",
       "    <tr>\n",
       "      <th>0</th>\n",
       "      <td>France</td>\n",
       "      <td>44.0</td>\n",
       "      <td>72000.000000</td>\n",
       "      <td>No</td>\n",
       "    </tr>\n",
       "    <tr>\n",
       "      <th>1</th>\n",
       "      <td>Spain</td>\n",
       "      <td>27.0</td>\n",
       "      <td>48000.000000</td>\n",
       "      <td>Yes</td>\n",
       "    </tr>\n",
       "    <tr>\n",
       "      <th>2</th>\n",
       "      <td>Germany</td>\n",
       "      <td>30.0</td>\n",
       "      <td>54000.000000</td>\n",
       "      <td>No</td>\n",
       "    </tr>\n",
       "    <tr>\n",
       "      <th>3</th>\n",
       "      <td>Spain</td>\n",
       "      <td>38.0</td>\n",
       "      <td>61000.000000</td>\n",
       "      <td>No</td>\n",
       "    </tr>\n",
       "    <tr>\n",
       "      <th>4</th>\n",
       "      <td>Germany</td>\n",
       "      <td>40.0</td>\n",
       "      <td>63777.777778</td>\n",
       "      <td>Yes</td>\n",
       "    </tr>\n",
       "  </tbody>\n",
       "</table>\n",
       "</div>"
      ],
      "text/plain": [
       "   Country   Age        Salary Purchased\n",
       "0   France  44.0  72000.000000        No\n",
       "1    Spain  27.0  48000.000000       Yes\n",
       "2  Germany  30.0  54000.000000        No\n",
       "3    Spain  38.0  61000.000000        No\n",
       "4  Germany  40.0  63777.777778       Yes"
      ]
     },
     "execution_count": 60,
     "metadata": {},
     "output_type": "execute_result"
    }
   ],
   "source": [
    "dataset['Age']=dataset['Age'].fillna(dataset['Age'].mean())\n",
    "dataset['Salary']=dataset['Salary'].fillna(dataset['Salary'].mean())\n",
    "dataset.head()"
   ]
  },
  {
   "cell_type": "code",
   "execution_count": 64,
   "metadata": {},
   "outputs": [
    {
     "data": {
      "text/html": [
       "<div>\n",
       "<style scoped>\n",
       "    .dataframe tbody tr th:only-of-type {\n",
       "        vertical-align: middle;\n",
       "    }\n",
       "\n",
       "    .dataframe tbody tr th {\n",
       "        vertical-align: top;\n",
       "    }\n",
       "\n",
       "    .dataframe thead th {\n",
       "        text-align: right;\n",
       "    }\n",
       "</style>\n",
       "<table border=\"1\" class=\"dataframe\">\n",
       "  <thead>\n",
       "    <tr style=\"text-align: right;\">\n",
       "      <th></th>\n",
       "      <th>Country</th>\n",
       "      <th>Age</th>\n",
       "      <th>Salary</th>\n",
       "      <th>Purchased</th>\n",
       "    </tr>\n",
       "  </thead>\n",
       "  <tbody>\n",
       "    <tr>\n",
       "      <th>0</th>\n",
       "      <td>France</td>\n",
       "      <td>44.0</td>\n",
       "      <td>72000.000000</td>\n",
       "      <td>No</td>\n",
       "    </tr>\n",
       "    <tr>\n",
       "      <th>1</th>\n",
       "      <td>Spain</td>\n",
       "      <td>27.0</td>\n",
       "      <td>48000.000000</td>\n",
       "      <td>Yes</td>\n",
       "    </tr>\n",
       "    <tr>\n",
       "      <th>2</th>\n",
       "      <td>Germany</td>\n",
       "      <td>30.0</td>\n",
       "      <td>54000.000000</td>\n",
       "      <td>No</td>\n",
       "    </tr>\n",
       "    <tr>\n",
       "      <th>3</th>\n",
       "      <td>Spain</td>\n",
       "      <td>38.0</td>\n",
       "      <td>61000.000000</td>\n",
       "      <td>No</td>\n",
       "    </tr>\n",
       "    <tr>\n",
       "      <th>4</th>\n",
       "      <td>Germany</td>\n",
       "      <td>40.0</td>\n",
       "      <td>63777.777778</td>\n",
       "      <td>Yes</td>\n",
       "    </tr>\n",
       "  </tbody>\n",
       "</table>\n",
       "</div>"
      ],
      "text/plain": [
       "   Country   Age        Salary Purchased\n",
       "0   France  44.0  72000.000000        No\n",
       "1    Spain  27.0  48000.000000       Yes\n",
       "2  Germany  30.0  54000.000000        No\n",
       "3    Spain  38.0  61000.000000        No\n",
       "4  Germany  40.0  63777.777778       Yes"
      ]
     },
     "execution_count": 64,
     "metadata": {},
     "output_type": "execute_result"
    }
   ],
   "source": [
    "dataset['Purchased']=dataset['Purchased'].replace({'True':'Yes','False':'No'})\n",
    "dataset.head()"
   ]
  },
  {
   "cell_type": "markdown",
   "metadata": {},
   "source": [
    "#### Feature Scaling \n",
    "We will now use sklearn to scale the features in order to normalize the dataset "
   ]
  },
  {
   "cell_type": "code",
   "execution_count": 67,
   "metadata": {},
   "outputs": [
    {
     "name": "stdout",
     "output_type": "stream",
     "text": [
      "[[  1.00000000e+00   0.00000000e+00   1.00000000e+00   0.00000000e+00\n",
      "    4.00000000e+01   6.37777778e+04]\n",
      " [  0.00000000e+00   1.00000000e+00   0.00000000e+00   0.00000000e+00\n",
      "    3.70000000e+01   6.70000000e+04]\n",
      " [  1.00000000e+00   0.00000000e+00   0.00000000e+00   1.00000000e+00\n",
      "    2.70000000e+01   4.80000000e+04]\n",
      " [  1.00000000e+00   0.00000000e+00   0.00000000e+00   1.00000000e+00\n",
      "    3.87777778e+01   5.20000000e+04]\n",
      " [  0.00000000e+00   1.00000000e+00   0.00000000e+00   0.00000000e+00\n",
      "    4.80000000e+01   7.90000000e+04]\n",
      " [  1.00000000e+00   0.00000000e+00   0.00000000e+00   1.00000000e+00\n",
      "    3.80000000e+01   6.10000000e+04]\n",
      " [  0.00000000e+00   1.00000000e+00   0.00000000e+00   0.00000000e+00\n",
      "    4.40000000e+01   7.20000000e+04]\n",
      " [  0.00000000e+00   1.00000000e+00   0.00000000e+00   0.00000000e+00\n",
      "    3.50000000e+01   5.80000000e+04]]\n",
      "--------------------------------------------\n",
      "[1 1 1 0 1 0 0 1]\n"
     ]
    }
   ],
   "source": [
    "from sklearn.model_selection import train_test_split\n",
    "X_train, X_test, Y_train, Y_test= train_test_split(X,Y,test_size=0.2,random_state=0)\n",
    "print(X_train)\n",
    "print(\"--------------------------------------------\")\n",
    "print(Y_train)"
   ]
  },
  {
   "cell_type": "code",
   "execution_count": 81,
   "metadata": {},
   "outputs": [
    {
     "name": "stdout",
     "output_type": "stream",
     "text": [
      "[[ 1.         -1.          2.64575131 -0.77459667  0.26306757  0.12381479]\n",
      " [-1.          1.         -0.37796447 -0.77459667 -0.25350148  0.46175632]\n",
      " [ 1.         -1.         -0.37796447  1.29099445 -1.97539832 -1.53093341]\n",
      " [ 1.         -1.         -0.37796447  1.29099445  0.05261351 -1.11141978]\n",
      " [-1.          1.         -0.37796447 -0.77459667  1.64058505  1.7202972 ]\n",
      " [ 1.         -1.         -0.37796447  1.29099445 -0.0813118  -0.16751412]\n",
      " [-1.          1.         -0.37796447 -0.77459667  0.95182631  0.98614835]\n",
      " [-1.          1.         -0.37796447 -0.77459667 -0.59788085 -0.48214934]]\n"
     ]
    }
   ],
   "source": [
    "from sklearn.preprocessing import StandardScaler \n",
    "#The module for feature scaling \n",
    "sc_X= StandardScaler()\n",
    "X_train=sc_X.fit_transform(X_train)\n",
    "sc_y = StandardScaler()\n",
    "X_test = sc_y.fit_transform(X_test)\n",
    "print(X_train)\n",
    "#We do not need to scale an already binary value for practical appliation but we can choose to do so if we want to \n",
    "#We are using the StandardScaler here but we can also use the MinMaxScaler available in the module"
   ]
  }
 ],
 "metadata": {
  "kernelspec": {
   "display_name": "Python 3",
   "language": "python",
   "name": "python3"
  },
  "language_info": {
   "codemirror_mode": {
    "name": "ipython",
    "version": 3
   },
   "file_extension": ".py",
   "mimetype": "text/x-python",
   "name": "python",
   "nbconvert_exporter": "python",
   "pygments_lexer": "ipython3",
   "version": "3.5.5"
  },
  "widgets": {
   "state": {},
   "version": "1.1.2"
  }
 },
 "nbformat": 4,
 "nbformat_minor": 2
}
