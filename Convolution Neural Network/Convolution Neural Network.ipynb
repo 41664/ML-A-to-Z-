{
 "cells": [
  {
   "cell_type": "markdown",
   "metadata": {},
   "source": [
    "## Convolution Neural Network \n",
    "\n",
    "We classify images based on the features we see in the images. Based on what features our brain sees, it processes and classifies and tells us what it is. CNN uses a probabilistic approach to classfiy objects that it sees. Yan LeCun is regarded as the father of CNNs. \n",
    "\n",
    "**Input**- An image\n",
    "**Output**- Probabilities for labels. \n",
    "\n",
    "### Here's how it works\n",
    "\n",
    "\n",
    "![steps](Steps.png)\n",
    "\n",
    "## Further Reading \n",
    "\n",
    "[Original Paper By Yann Lecun](http://vision.stanford.edu/cs598_spring07/papers/Lecun98.pdf)\n",
    "\n",
    "[The Most popular introduction](https://pdfs.semanticscholar.org/450c/a19932fcef1ca6d0442cbf52fec38fb9d1e5.pdf) \n",
    "\n",
    "[WHy do they use a non linear function](https://arxiv.org/abs/1609.04112)\n",
    "\n",
    "[An analysis on Pooling operations](http://ais.uni-bonn.de/papers/icann2010_maxpool.pdf)\n",
    "\n",
    "[CNN visualization](http://www.cs.cmu.edu/~aharley/vis/conv/flat.html)\n",
    "\n",
    "## Concepts importnat and learnt in this \n",
    "\n",
    "1. **Convolution** \n",
    "       a. Convolution Kernel \n",
    "       b. Convolution padding and stride\n",
    "       c. Convolution accross volumes\n",
    "2. **Pooling**\n",
    "3. **Designing of some popular CNNs** like VGG-16, Alexnet and Le-Net5\n",
    "4. **Resnet**"
   ]
  },
  {
   "cell_type": "markdown",
   "metadata": {},
   "source": [
    "## Problem- Training Dog vs Cat classifier "
   ]
  },
  {
   "cell_type": "code",
   "execution_count": null,
   "metadata": {},
   "outputs": [],
   "source": []
  }
 ],
 "metadata": {
  "kernelspec": {
   "display_name": "Python 3",
   "language": "python",
   "name": "python3"
  },
  "language_info": {
   "codemirror_mode": {
    "name": "ipython",
    "version": 3
   },
   "file_extension": ".py",
   "mimetype": "text/x-python",
   "name": "python",
   "nbconvert_exporter": "python",
   "pygments_lexer": "ipython3",
   "version": "3.5.5"
  },
  "widgets": {
   "state": {},
   "version": "1.1.2"
  }
 },
 "nbformat": 4,
 "nbformat_minor": 2
}
